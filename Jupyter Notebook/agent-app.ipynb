{
 "cells": [
  {
   "cell_type": "code",
   "execution_count": 1,
   "metadata": {},
   "outputs": [],
   "source": [
    "#!pip install --upgrade gradio"
   ]
  },
  {
   "cell_type": "code",
   "execution_count": 2,
   "metadata": {},
   "outputs": [],
   "source": [
    "import gradio as gr"
   ]
  },
  {
   "cell_type": "code",
   "execution_count": 3,
   "metadata": {},
   "outputs": [],
   "source": [
    "from langchain_pinecone import PineconeVectorStore\n",
    "from langchain_openai import OpenAIEmbeddings, ChatOpenAI\n",
    "from langchain.chains import RetrievalQA\n",
    "import os \n",
    "from dotenv import load_dotenv, find_dotenv\n",
    "from pinecone import Pinecone\n",
    "from langchain.agents import Tool \n",
    "from langchain.prompts import PromptTemplate\n",
    "from langchain.chains.conversation.memory import ConversationBufferWindowMemory\n",
    "from langchain.agents import initialize_agent\n",
    "from langchain.prompts import SystemMessagePromptTemplate"
   ]
  },
  {
   "cell_type": "code",
   "execution_count": 4,
   "metadata": {},
   "outputs": [],
   "source": [
    "#Initialize LangSmith\n",
    "os.environ[\"LANGCHAIN_TRACING_V2\"] = \"true\"\n",
    "os.environ[\"LANGCHAIN_ENDPOINT\"]=\"https://api.smith.langchain.com\"\n",
    "os.environ[\"LANGCHAIN_PROJECT\"]=\"japan-chatbot\"\n",
    "LANGSMITH_API_KEY = os.getenv(\"LANGSMITH_API_KEY\") or input(\"Enter your LangSmith API key: \")"
   ]
  },
  {
   "cell_type": "code",
   "execution_count": 5,
   "metadata": {},
   "outputs": [],
   "source": [
    "_ = load_dotenv(find_dotenv())\n",
    "# Load API keys and initialize\n",
    "OPENAI_API_KEY = os.getenv(\"OPENAI_API_KEY\") or input(\"Enter your OpenAI API key: \")\n",
    "PINECONE_API_KEY = os.getenv(\"PINECONE_API_KEY\") or input(\"Enter your Pinecone API key: \")"
   ]
  },
  {
   "cell_type": "code",
   "execution_count": 6,
   "metadata": {},
   "outputs": [],
   "source": [
    "embedding_model = OpenAIEmbeddings(model=\"text-embedding-ada-002\", api_key=OPENAI_API_KEY)\n",
    "\n",
    "pc = Pinecone(api_key=PINECONE_API_KEY)\n",
    "index_name = \"japan-travel-guide\"\n",
    "\n",
    "\n",
    "index = pc.Index(index_name)\n",
    "\n",
    "    # Create Pinecone vector store\n",
    "vector_store = PineconeVectorStore(\n",
    "    index=index,\n",
    "    embedding=embedding_model,\n",
    "    #text_key=\"text_excerpt\"  # Update this if your metadata key is different\n",
    "    )\n",
    "\n",
    "retriever = vector_store.as_retriever()\n",
    "\n",
    "# Configure ChatOpenAI and the Retrieval Chain\n",
    "llm = ChatOpenAI(model=\"gpt-4o-mini\", api_key=OPENAI_API_KEY)\n",
    "qa_chain = RetrievalQA.from_chain_type(llm=llm, retriever=retriever, chain_type=\"stuff\")"
   ]
  },
  {
   "cell_type": "code",
   "execution_count": 7,
   "metadata": {},
   "outputs": [],
   "source": [
    "from langchain_core.prompts import SystemMessagePromptTemplate\n",
    "\n",
    "system_prompt = SystemMessagePromptTemplate.from_template(\n",
    "    \"\"\"\n",
    "    You are a friendly and knowledgeable travel assistant specialized in planning trips to Japan. Your role is to create travel plans, personalized itineraries, and provide tailored recommendations for activities, attractions, and dining options in Japan.\n",
    "\n",
    "    **Rules and Workflow:**\n",
    "    1. **Trip Planning:**\n",
    "       - Use tools to generate itineraries and answer questions based on the user’s preferences, such as travel duration, interests, and budget.\n",
    "       - Always prioritize providing accurate and specific advice.\n",
    "\n",
    "    2. **Recommendations:**\n",
    "       - Recommend attractions, activities, and dining options tailored to the user's preferences.\n",
    "       - Provide cultural insights, tips, and advice for visiting Japan.\n",
    "\n",
    "    3. **Tool Usage:**\n",
    "       - Always use tools to retrieve relevant information or generate itineraries.\n",
    "       - Your responses must rely on tool outputs. Do not use your own reasoning beyond the tool's output.\n",
    "\n",
    "    **Critical Instructions:**\n",
    "    - Never respond without using tools for relevant data.\n",
    "    - Avoid making assumptions or speculations.\n",
    "    - Always follow user input closely to customize your recommendations.\n",
    "\n",
    "    **Memory Context:**\n",
    "    - Here is the previous conversation: `{chat_history}`\n",
    "\n",
    "    Follow these guidelines strictly to ensure helpful, tool-based assistance for the user.\n",
    "    \"\"\"\n",
    ")\n"
   ]
  },
  {
   "cell_type": "code",
   "execution_count": 8,
   "metadata": {},
   "outputs": [],
   "source": [
    "# Tool 1: Generate Itinerary\n",
    "def generate_itinerary_tool(user_input: str) -> str:\n",
    "    \"\"\"\n",
    "    Generates a personalized itinerary based on user input.\n",
    "    \"\"\"\n",
    "    # Use your existing logic for itinerary generation\n",
    "    itinerary = qa_chain.run(user_input)\n",
    "    return itinerary\n",
    "\n",
    "# Tool 2: Provide Recommendations\n",
    "def provide_recommendations_tool(user_input: str) -> str:\n",
    "    \"\"\"\n",
    "    Provides recommendations for activities, attractions, and dining options in Japan.\n",
    "    \"\"\"\n",
    "    # Use your existing logic for recommendations\n",
    "    recommendations = qa_chain.run(user_input)\n",
    "    return recommendations\n",
    "\n",
    "tools = [\n",
    "    Tool(\n",
    "        name=\"GenerateItinerary\",\n",
    "        func=generate_itinerary_tool,\n",
    "        description=\"Use this tool to create personalized itineraries for travel in Japan. Input: trip details like duration, interests, and locations.\"\n",
    "    ),\n",
    "    Tool(\n",
    "        name=\"ProvideRecommendations\",\n",
    "        func=provide_recommendations_tool,\n",
    "        description=\"Use this tool to recommend activities, attractions, and dining options in Japan. Input: specific preferences or questions.\"\n",
    "    )\n",
    "]\n"
   ]
  },
  {
   "cell_type": "code",
   "execution_count": 9,
   "metadata": {},
   "outputs": [
    {
     "name": "stderr",
     "output_type": "stream",
     "text": [
      "/var/folders/4k/80dptcl93wn3tj14ld1zdd280000gn/T/ipykernel_73093/15636195.py:3: LangChainDeprecationWarning: Please see the migration guide at: https://python.langchain.com/docs/versions/migrating_memory/\n",
      "  conversational_memory = ConversationBufferMemory(\n"
     ]
    }
   ],
   "source": [
    "from langchain.chains.conversation.memory import ConversationBufferMemory\n",
    "\n",
    "conversational_memory = ConversationBufferMemory(\n",
    "    memory_key=\"chat_history\",\n",
    "    k=7,  # Number of previous interactions to remember\n",
    "    return_messages=True\n",
    ")"
   ]
  },
  {
   "cell_type": "code",
   "execution_count": 10,
   "metadata": {},
   "outputs": [
    {
     "name": "stderr",
     "output_type": "stream",
     "text": [
      "/var/folders/4k/80dptcl93wn3tj14ld1zdd280000gn/T/ipykernel_73093/1273219919.py:4: LangChainDeprecationWarning: LangChain agents will continue to be supported, but it is recommended for new use cases to be built with LangGraph. LangGraph offers a more flexible and full-featured framework for building agents, including support for tool-calling, persistence of state, and human-in-the-loop workflows. For details, refer to the `LangGraph documentation <https://langchain-ai.github.io/langgraph/>`_ as well as guides for `Migrating from AgentExecutor <https://python.langchain.com/docs/how_to/migrate_agent/>`_ and LangGraph's `Pre-built ReAct agent <https://langchain-ai.github.io/langgraph/how-tos/create-react-agent/>`_.\n",
      "  agent = initialize_agent(\n"
     ]
    }
   ],
   "source": [
    "from langchain.agents import initialize_agent, AgentType\n",
    "\n",
    "# Initialize agent\n",
    "agent = initialize_agent(\n",
    "    tools=tools,\n",
    "    llm=llm,\n",
    "    agent=AgentType.OPENAI_FUNCTIONS,\n",
    "    verbose=True,\n",
    "    memory=conversational_memory,\n",
    "    max_iterations=3,\n",
    "    agent_kwargs={\n",
    "        \"system_message\": system_prompt,\n",
    "        \"memory_key\": \"chat_history\",\n",
    "    },\n",
    ")\n"
   ]
  },
  {
   "cell_type": "code",
   "execution_count": 12,
   "metadata": {},
   "outputs": [
    {
     "name": "stderr",
     "output_type": "stream",
     "text": [
      "/opt/anaconda3/lib/python3.12/site-packages/gradio/components/chatbot.py:282: UserWarning: You have not specified a value for the `type` parameter. Defaulting to the 'tuples' format for chatbot messages, but this is deprecated and will be removed in a future version of Gradio. Please set type='messages' instead, which uses openai-style dictionaries with 'role' and 'content' keys.\n",
      "  warnings.warn(\n"
     ]
    },
    {
     "name": "stdout",
     "output_type": "stream",
     "text": [
      "* Running on local URL:  http://127.0.0.1:7861\n",
      "* Running on public URL: https://06f778ece2c2033230.gradio.live\n",
      "\n",
      "This share link expires in 72 hours. For free permanent hosting and GPU upgrades, run `gradio deploy` from the terminal in the working directory to deploy to Hugging Face Spaces (https://huggingface.co/spaces)\n"
     ]
    },
    {
     "data": {
      "text/html": [
       "<div><iframe src=\"https://06f778ece2c2033230.gradio.live\" width=\"100%\" height=\"500\" allow=\"autoplay; camera; microphone; clipboard-read; clipboard-write;\" frameborder=\"0\" allowfullscreen></iframe></div>"
      ],
      "text/plain": [
       "<IPython.core.display.HTML object>"
      ]
     },
     "metadata": {},
     "output_type": "display_data"
    },
    {
     "data": {
      "text/plain": []
     },
     "execution_count": 12,
     "metadata": {},
     "output_type": "execute_result"
    },
    {
     "name": "stdout",
     "output_type": "stream",
     "text": [
      "\n",
      "\n",
      "\u001b[1m> Entering new AgentExecutor chain...\u001b[0m\n",
      "\u001b[32;1m\u001b[1;3m\n",
      "Invoking: `GenerateItinerary` with `one day trip Tokyo`\n",
      "\n",
      "\n",
      "\u001b[0m\u001b[36;1m\u001b[1;3mA great day trip from Tokyo is to Nikko. It's about an hour and a half train ride from the city and is home to Japan's most lavishly decorated shrine, the Toshogu Grand Shrine. Nikko offers a beautiful mix of Shinto and Buddhist temples in a scenic mountainous setting. It's a rewarding day trip for those looking to explore cultural and historical sites outside of Tokyo.\u001b[0m\u001b[32;1m\u001b[1;3m\n",
      "Invoking: `GenerateItinerary` with `one day trip itinerary in Tokyo`\n",
      "\n",
      "\n",
      "\u001b[0m\u001b[36;1m\u001b[1;3mI don't know.\u001b[0m\u001b[32;1m\u001b[1;3m\n",
      "Invoking: `ProvideRecommendations` with `one day trip in Tokyo itinerary suggestions`\n",
      "\n",
      "\n",
      "\u001b[0m\u001b[33;1m\u001b[1;3mOne recommended day trip from Tokyo is to visit Nikko, which is about an hour and a half train ride away. In Nikko, you can explore Japan's most lavishly decorated shrine, the Toshogu Grand Shrine, along with other Shinto and Buddhist temples. The area is also known for its beautiful mountainous scenery.\n",
      "\n",
      "Another great option is Kamakura, which is closer to Tokyo and famous for its Zen temples and the Great Buddha (Daibutsu). In Kamakura, you can visit various temples and see the giant bronze Buddha that you can actually go inside.\n",
      "\n",
      "Yokohama is also a popular choice, known for its vibrant Chinatown, the Yokohama Bay Stars baseball team, and large Ferris wheels. Additionally, you can enjoy the waterfront park and other attractions in the city.\n",
      "\n",
      "If you’re interested in natural hot springs, you might consider a trip to Hakone, which is near Mount Fuji, where you can experience the onsen and stunning views of the mountain.\n",
      "\n",
      "Lastly, if you're a Disney fan, consider spending the day at either Tokyo Disneyland or Tokyo DisneySea, both of which offer unique experiences you won’t find in other Disney parks.\u001b[0m\u001b[32;1m\u001b[1;3m\u001b[0m\n",
      "\n",
      "\u001b[1m> Finished chain.\u001b[0m\n",
      "\n",
      "\n",
      "\u001b[1m> Entering new AgentExecutor chain...\u001b[0m\n",
      "\u001b[32;1m\u001b[1;3m\n",
      "Invoking: `GenerateItinerary` with `one day trip in Tokyo`\n",
      "\n",
      "\n",
      "\u001b[0m\u001b[36;1m\u001b[1;3mOne recommended day trip from Tokyo is to visit Nikko. It's about an hour and a half train ride outside of Tokyo and is home to Japan's most lavishly decorated shrine, the Toshogu Grand Shrine, along with other Shinto and Buddhist temples. The area is beautifully set in the mountains, making it a rewarding day trip with colorful temples and a scenic town to explore.\u001b[0m\u001b[32;1m\u001b[1;3mFor a one-day trip in Tokyo, here's a recommended itinerary that lets you explore some of the city's key attractions:\n",
      "\n",
      "**Morning:**\n",
      "1. **Tsukiji Outer Market** - Start your day with a breakfast of fresh sushi or seafood at the Tsukiji Outer Market.\n",
      "2. **Hamarikyu Gardens** - After breakfast, take a stroll through the beautiful Hamarikyu Gardens for a taste of nature in the city.\n",
      "\n",
      "**Midday:**\n",
      "3. **Sumida River Cruise** - Enjoy a scenic boat ride from Hamarikyu to Asakusa. It offers fantastic views of the city.\n",
      "4. **Senso-ji Temple** - Once in Asakusa, visit Senso-ji, Tokyo's oldest temple. Explore the surrounding streets filled with shops and traditional snacks.\n",
      "\n",
      "**Afternoon:**\n",
      "5. **Akihabara** - Head to Akihabara, the center of otaku culture. Explore anime shops, maid cafes, and gaming stores.\n",
      "6. **Ueno Park** - Visit Ueno Park, where you can see the Tokyo National Museum or simply enjoy a relaxing walk in the park.\n",
      "\n",
      "**Evening:**\n",
      "7. **Shibuya Crossing** - Make your way to Shibuya and experience the famous Shibuya Crossing. Don’t forget to take a photo with the Hachiko statue.\n",
      "8. **Dinner in Shibuya** - Choose from a variety of dining options, from izakaya to high-end sushi restaurants.\n",
      "\n",
      "**Night:**\n",
      "9. **Tokyo Tower or Tokyo Skytree** - End your day by visiting either Tokyo Tower or Tokyo Skytree for a stunning night view of the city.\n",
      "\n",
      "This itinerary includes a mix of culture, food, and iconic sights to give you a taste of what Tokyo has to offer in just one day! Let me know if you need more specific recommendations or adjustments to this plan.\u001b[0m\n",
      "\n",
      "\u001b[1m> Finished chain.\u001b[0m\n",
      "\n",
      "\n",
      "\u001b[1m> Entering new AgentExecutor chain...\u001b[0m\n"
     ]
    }
   ],
   "source": [
    "# Store conversation history\n",
    "chat_history = []\n",
    "\n",
    "# Function to handle user input and return chatbot's response\n",
    "def chatbot_response(user_input):\n",
    "    global chat_history\n",
    "    try:\n",
    "        # Generate response from LangChain agent\n",
    "        response = agent.invoke({\"input\": user_input}).get(\"output\", \"I didn't understand that. Please try again.\")\n",
    "    except Exception as e:\n",
    "        response = f\"An error occurred: {str(e)}\"\n",
    "\n",
    "    # Append user input and bot response to the chat history\n",
    "    chat_history.append((user_input, response))\n",
    "    return chat_history  # Return updated chat history for display\n",
    "\n",
    "# Function to reset LangChain memory\n",
    "def reset_agent_memory():\n",
    "    global memory, agent\n",
    "    memory = ConversationBufferMemory(memory_key=\"chat_history\", k=7, return_messages=True)\n",
    "    agent = initialize_agent(\n",
    "        tools=tools,\n",
    "        llm=llm,\n",
    "        agent=AgentType.OPENAI_FUNCTIONS,\n",
    "        verbose=True,\n",
    "        memory=memory,\n",
    "        max_iterations=3,\n",
    "        agent_kwargs={\n",
    "            \"system_message\": system_prompt,\n",
    "            \"memory_key\": \"chat_history\",\n",
    "        },\n",
    "    )\n",
    "\n",
    "# Function to clear chat\n",
    "def clear_chat():\n",
    "    global chat_history\n",
    "    chat_history = []  # Reset Gradio chat history\n",
    "    reset_agent_memory()  # Reset LangChain memory\n",
    "    return []  # Clear Gradio chatbot UI\n",
    "\n",
    "# Define the Gradio interface\n",
    "with gr.Blocks() as demo:\n",
    "    gr.Markdown(\"# 🗾 Japan Travel Chatbot\")\n",
    "    gr.Markdown(\"Ask me anything about traveling in Japan, from itineraries to cultural insights!\")\n",
    "\n",
    "    # Chatbot interface\n",
    "    chatbot = gr.Chatbot(label=\"Chat History\")\n",
    "\n",
    "    with gr.Row():\n",
    "        user_input = gr.Textbox(label=\"Your Question\", placeholder=\"Type your question here...\", lines=1)\n",
    "        submit_button = gr.Button(\"Submit\")\n",
    "    \n",
    "    # Clear chat button\n",
    "    clear_button = gr.Button(\"Clear Chat\")\n",
    "\n",
    "    # Connect the buttons to functions\n",
    "    submit_button.click(chatbot_response, inputs=[user_input], outputs=[chatbot])\n",
    "    clear_button.click(clear_chat, inputs=None, outputs=[chatbot])\n",
    "\n",
    "# Launch the app\n",
    "demo.launch(share=True)"
   ]
  },
  {
   "cell_type": "markdown",
   "metadata": {},
   "source": [
    "Continue:\n",
    "- convert tp python\n",
    "- make presentation"
   ]
  },
  {
   "cell_type": "markdown",
   "metadata": {},
   "source": []
  }
 ],
 "metadata": {
  "kernelspec": {
   "display_name": "base",
   "language": "python",
   "name": "python3"
  },
  "language_info": {
   "codemirror_mode": {
    "name": "ipython",
    "version": 3
   },
   "file_extension": ".py",
   "mimetype": "text/x-python",
   "name": "python",
   "nbconvert_exporter": "python",
   "pygments_lexer": "ipython3",
   "version": "3.12.4"
  }
 },
 "nbformat": 4,
 "nbformat_minor": 2
}
